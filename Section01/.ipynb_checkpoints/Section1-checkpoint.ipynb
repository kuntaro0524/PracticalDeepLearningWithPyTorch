{
 "cells": [
  {
   "cell_type": "code",
   "execution_count": 5,
   "id": "927e5f15",
   "metadata": {},
   "outputs": [],
   "source": [
    "import torch\n",
    "import numpy as np"
   ]
  },
  {
   "cell_type": "code",
   "execution_count": 6,
   "id": "27328c0c",
   "metadata": {},
   "outputs": [],
   "source": [
    "arr=[[1,2],[3,4]]"
   ]
  },
  {
   "cell_type": "code",
   "execution_count": 7,
   "id": "65da0346",
   "metadata": {},
   "outputs": [
    {
     "data": {
      "text/plain": [
       "array([[1, 2],\n",
       "       [3, 4]])"
      ]
     },
     "execution_count": 7,
     "metadata": {},
     "output_type": "execute_result"
    }
   ],
   "source": [
    "np.array(arr)"
   ]
  },
  {
   "cell_type": "markdown",
   "id": "c914e3e2",
   "metadata": {},
   "source": [
    "# import したい"
   ]
  },
  {
   "cell_type": "markdown",
   "id": "93b83f27",
   "metadata": {},
   "source": [
    "# pytorchでテンソルを作る"
   ]
  },
  {
   "cell_type": "code",
   "execution_count": 8,
   "id": "2d064991",
   "metadata": {},
   "outputs": [
    {
     "data": {
      "text/plain": [
       "tensor([[1., 2.],\n",
       "        [3., 4.]])"
      ]
     },
     "execution_count": 8,
     "metadata": {},
     "output_type": "execute_result"
    }
   ],
   "source": [
    "torch.Tensor(arr)"
   ]
  },
  {
   "cell_type": "markdown",
   "id": "df6de178",
   "metadata": {},
   "source": [
    "# numpyを利用して11行列を作る"
   ]
  },
  {
   "cell_type": "code",
   "execution_count": 9,
   "id": "681454f4",
   "metadata": {},
   "outputs": [
    {
     "data": {
      "text/plain": [
       "array([[1., 1.],\n",
       "       [1., 1.]])"
      ]
     },
     "execution_count": 9,
     "metadata": {},
     "output_type": "execute_result"
    }
   ],
   "source": [
    "np.ones((2,2))"
   ]
  },
  {
   "cell_type": "markdown",
   "id": "6c066404",
   "metadata": {},
   "source": [
    "# Pytorchを利用して同じことをする"
   ]
  },
  {
   "cell_type": "code",
   "execution_count": 11,
   "id": "d9bd55c1",
   "metadata": {},
   "outputs": [
    {
     "data": {
      "text/plain": [
       "tensor([[1., 1.],\n",
       "        [1., 1.]])"
      ]
     },
     "execution_count": 11,
     "metadata": {},
     "output_type": "execute_result"
    }
   ],
   "source": [
    "torch.ones((2,2))"
   ]
  },
  {
   "cell_type": "markdown",
   "id": "80a6288c",
   "metadata": {},
   "source": [
    "# random変数を入れた行列を作る"
   ]
  },
  {
   "cell_type": "code",
   "execution_count": 13,
   "id": "762383f3",
   "metadata": {},
   "outputs": [
    {
     "data": {
      "text/plain": [
       "array([[0.74474564, 0.84294983],\n",
       "       [0.6022692 , 0.89280907]])"
      ]
     },
     "execution_count": 13,
     "metadata": {},
     "output_type": "execute_result"
    }
   ],
   "source": [
    "np.random.rand(2,2)"
   ]
  },
  {
   "cell_type": "markdown",
   "id": "8a39f4ce",
   "metadata": {},
   "source": [
    "# pytorchを利用して同じことをする"
   ]
  },
  {
   "cell_type": "code",
   "execution_count": 14,
   "id": "5923838a",
   "metadata": {},
   "outputs": [
    {
     "data": {
      "text/plain": [
       "tensor([[0.8385, 0.9089],\n",
       "        [0.5173, 0.1108]])"
      ]
     },
     "execution_count": 14,
     "metadata": {},
     "output_type": "execute_result"
    }
   ],
   "source": [
    "torch.rand(2,2)"
   ]
  },
  {
   "cell_type": "markdown",
   "id": "c5882b1a",
   "metadata": {},
   "source": [
    "# Random seed→再現性の話"
   ]
  },
  {
   "cell_type": "code",
   "execution_count": 16,
   "id": "974d9b3c",
   "metadata": {},
   "outputs": [
    {
     "data": {
      "text/plain": [
       "array([[0.5488135 , 0.71518937],\n",
       "       [0.60276338, 0.54488318]])"
      ]
     },
     "execution_count": 16,
     "metadata": {},
     "output_type": "execute_result"
    }
   ],
   "source": [
    "np.random.seed(0)\n",
    "np.random.rand(2,2)"
   ]
  },
  {
   "cell_type": "markdown",
   "id": "e6baf354",
   "metadata": {},
   "source": [
    "## Seedの再現性の話\n",
    "seedの指定をしない場合、ランダムな数値が出る"
   ]
  },
  {
   "cell_type": "code",
   "execution_count": 19,
   "id": "25fb2bcb",
   "metadata": {},
   "outputs": [
    {
     "data": {
      "text/plain": [
       "array([[0.96366276, 0.38344152],\n",
       "       [0.79172504, 0.52889492]])"
      ]
     },
     "execution_count": 19,
     "metadata": {},
     "output_type": "execute_result"
    }
   ],
   "source": [
    "np.random.rand(2,2)"
   ]
  },
  {
   "cell_type": "markdown",
   "id": "c608a892",
   "metadata": {},
   "source": [
    "## 再度seedを指定してみると？"
   ]
  },
  {
   "cell_type": "code",
   "execution_count": 20,
   "id": "3be87be6",
   "metadata": {},
   "outputs": [
    {
     "data": {
      "text/plain": [
       "array([[0.5488135 , 0.71518937],\n",
       "       [0.60276338, 0.54488318]])"
      ]
     },
     "execution_count": 20,
     "metadata": {},
     "output_type": "execute_result"
    }
   ],
   "source": [
    "np.random.seed(0)\n",
    "np.random.rand(2,2)"
   ]
  },
  {
   "cell_type": "markdown",
   "id": "8610870e",
   "metadata": {},
   "source": [
    "# pytorchでもnumpyと同じようになるよ"
   ]
  },
  {
   "cell_type": "code",
   "execution_count": 21,
   "id": "c92671df",
   "metadata": {},
   "outputs": [
    {
     "data": {
      "text/plain": [
       "tensor([[0.7665, 0.2776],\n",
       "        [0.0717, 0.5329]])"
      ]
     },
     "execution_count": 21,
     "metadata": {},
     "output_type": "execute_result"
    }
   ],
   "source": [
    "torch.rand(2,2)"
   ]
  },
  {
   "cell_type": "code",
   "execution_count": 24,
   "id": "3c0c3871",
   "metadata": {},
   "outputs": [
    {
     "name": "stdout",
     "output_type": "stream",
     "text": [
      "tensor([[0.4963, 0.7682],\n",
      "        [0.0885, 0.1320]])\n",
      "tensor([[0.4963, 0.7682],\n",
      "        [0.0885, 0.1320]])\n"
     ]
    }
   ],
   "source": [
    "torch.manual_seed(0)\n",
    "print(torch.rand(2,2))\n",
    "torch.manual_seed(0)\n",
    "print(torch.rand(2,2))"
   ]
  },
  {
   "cell_type": "markdown",
   "id": "025d0099",
   "metadata": {},
   "source": [
    "# GPUを利用するときのランダムシードは異なる\n",
    "iMacではできないらしい"
   ]
  },
  {
   "cell_type": "code",
   "execution_count": 29,
   "id": "c125c6a0",
   "metadata": {},
   "outputs": [
    {
     "name": "stdout",
     "output_type": "stream",
     "text": [
      "False\n"
     ]
    }
   ],
   "source": [
    "print(torch.cuda.is_available())"
   ]
  },
  {
   "cell_type": "markdown",
   "id": "415b7165",
   "metadata": {},
   "source": [
    "# NumpyとTorchの橋渡し"
   ]
  },
  {
   "cell_type": "code",
   "execution_count": 30,
   "id": "aabe0b0c",
   "metadata": {},
   "outputs": [],
   "source": [
    "np_array=np.ones((2,2))"
   ]
  },
  {
   "cell_type": "code",
   "execution_count": 31,
   "id": "f07ee61c",
   "metadata": {},
   "outputs": [
    {
     "name": "stdout",
     "output_type": "stream",
     "text": [
      "[[1. 1.]\n",
      " [1. 1.]]\n"
     ]
    }
   ],
   "source": [
    "print(np_array)"
   ]
  },
  {
   "cell_type": "code",
   "execution_count": 32,
   "id": "689a892c",
   "metadata": {},
   "outputs": [
    {
     "name": "stdout",
     "output_type": "stream",
     "text": [
      "<class 'numpy.ndarray'>\n"
     ]
    }
   ],
   "source": [
    "print(type(np_array))"
   ]
  },
  {
   "cell_type": "markdown",
   "id": "be559388",
   "metadata": {},
   "source": [
    "# torch tensorへの変換(numpy.array)"
   ]
  },
  {
   "cell_type": "code",
   "execution_count": 33,
   "id": "4c6c27dd",
   "metadata": {},
   "outputs": [],
   "source": [
    "torch_tensor = torch.from_numpy(np_array)"
   ]
  },
  {
   "cell_type": "code",
   "execution_count": 34,
   "id": "3fb96037",
   "metadata": {},
   "outputs": [
    {
     "name": "stdout",
     "output_type": "stream",
     "text": [
      "tensor([[1., 1.],\n",
      "        [1., 1.]], dtype=torch.float64)\n"
     ]
    }
   ],
   "source": [
    "print(torch_tensor)"
   ]
  },
  {
   "cell_type": "code",
   "execution_count": 36,
   "id": "9dd2f74d",
   "metadata": {},
   "outputs": [
    {
     "name": "stdout",
     "output_type": "stream",
     "text": [
      "<class 'torch.Tensor'>\n"
     ]
    }
   ],
   "source": [
    "print(type(torch_tensor))"
   ]
  },
  {
   "cell_type": "markdown",
   "id": "afb75c0d",
   "metadata": {},
   "source": [
    "# Tensorの型を指定して渡したいとき"
   ]
  },
  {
   "cell_type": "markdown",
   "id": "5df64b86",
   "metadata": {},
   "source": [
    "## numpyの整数型の行列を作る"
   ]
  },
  {
   "cell_type": "code",
   "execution_count": 37,
   "id": "6b11c767",
   "metadata": {},
   "outputs": [],
   "source": [
    "np_array_new = np.ones((2,2), dtype=np.int8)"
   ]
  },
  {
   "cell_type": "markdown",
   "id": "1d94a01a",
   "metadata": {},
   "source": [
    "### 講義では変換できないと言われていたができるようになっているｗ"
   ]
  },
  {
   "cell_type": "code",
   "execution_count": 40,
   "id": "d350a511",
   "metadata": {},
   "outputs": [
    {
     "data": {
      "text/plain": [
       "tensor([[1, 1],\n",
       "        [1, 1]], dtype=torch.int8)"
      ]
     },
     "execution_count": 40,
     "metadata": {},
     "output_type": "execute_result"
    }
   ],
   "source": [
    "torch.from_numpy(np_array_new)"
   ]
  },
  {
   "cell_type": "markdown",
   "id": "686ddd87",
   "metadata": {},
   "source": [
    "# TorchからNumpyへ移行"
   ]
  },
  {
   "cell_type": "code",
   "execution_count": 41,
   "id": "59514745",
   "metadata": {},
   "outputs": [],
   "source": [
    "torch_tensor = torch.ones(2,2)"
   ]
  },
  {
   "cell_type": "code",
   "execution_count": 43,
   "id": "b4a6cc08",
   "metadata": {},
   "outputs": [
    {
     "name": "stdout",
     "output_type": "stream",
     "text": [
      "tensor([[1., 1.],\n",
      "        [1., 1.]])\n"
     ]
    }
   ],
   "source": [
    "print(torch_tensor)"
   ]
  },
  {
   "cell_type": "code",
   "execution_count": 44,
   "id": "77154c8a",
   "metadata": {},
   "outputs": [],
   "source": [
    "torch_to_numpy = torch_tensor.numpy()"
   ]
  },
  {
   "cell_type": "code",
   "execution_count": 45,
   "id": "39bab07a",
   "metadata": {},
   "outputs": [
    {
     "data": {
      "text/plain": [
       "array([[1., 1.],\n",
       "       [1., 1.]], dtype=float32)"
      ]
     },
     "execution_count": 45,
     "metadata": {},
     "output_type": "execute_result"
    }
   ],
   "source": [
    "torch_to_numpy"
   ]
  },
  {
   "cell_type": "markdown",
   "id": "3271adb5",
   "metadata": {},
   "source": [
    "# GPU <-> CPU\n",
    "のちにこの使い分けが非常に重要になる"
   ]
  },
  {
   "cell_type": "code",
   "execution_count": 46,
   "id": "6568ef83",
   "metadata": {},
   "outputs": [],
   "source": [
    "# CPU\n",
    "tensor_cpu = torch.ones(2,2)"
   ]
  },
  {
   "cell_type": "code",
   "execution_count": 47,
   "id": "5de6b67f",
   "metadata": {},
   "outputs": [],
   "source": [
    "# CPU to GPU\n",
    "if torch.cuda.is_available():\n",
    "    tensor_cpu.cuda()"
   ]
  },
  {
   "cell_type": "code",
   "execution_count": 48,
   "id": "e029128e",
   "metadata": {},
   "outputs": [
    {
     "data": {
      "text/plain": [
       "tensor([[1., 1.],\n",
       "        [1., 1.]])"
      ]
     },
     "execution_count": 48,
     "metadata": {},
     "output_type": "execute_result"
    }
   ],
   "source": [
    "#GPU to CPU\n",
    "tensor_cpu.cpu()"
   ]
  },
  {
   "cell_type": "markdown",
   "id": "17fd3295-3701-459c-93d0-2cb00c806c2c",
   "metadata": {},
   "source": [
    "# nihongo uchitainaxa @ ubuntu"
   ]
  }
 ],
 "metadata": {
  "kernelspec": {
   "display_name": "Python 3",
   "language": "python",
   "name": "python3"
  },
  "language_info": {
   "codemirror_mode": {
    "name": "ipython",
    "version": 3
   },
   "file_extension": ".py",
   "mimetype": "text/x-python",
   "name": "python",
   "nbconvert_exporter": "python",
   "pygments_lexer": "ipython3",
   "version": "3.8.8"
  }
 },
 "nbformat": 4,
 "nbformat_minor": 5
}
